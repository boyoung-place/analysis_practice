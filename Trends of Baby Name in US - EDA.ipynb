{
 "cells": [
  {
   "cell_type": "code",
   "execution_count": 150,
   "metadata": {},
   "outputs": [],
   "source": [
    "### 2021.09.07. 작성"
   ]
  },
  {
   "cell_type": "markdown",
   "metadata": {},
   "source": [
    "## English Name Trend 살피기\n",
    "- 목적: 영어이름 만들기\n",
    "- 상세내용: \n",
    "    영어이름을 만드려 하는데 너무 올드한 느낌의 이름도 싫고, 최근 대세인 영어이름 중에서 하나를 고르고 싶다. 어느 이름이 요즘의 trend일까? 이를 알기 위해 미국의 아기이름을 년도별로 정리해놓은 데이터를 이용하기로 한다."
   ]
  },
  {
   "cell_type": "code",
   "execution_count": 2,
   "metadata": {},
   "outputs": [],
   "source": [
    "import pandas as pd\n",
    "import numpy as np\n",
    "import matplotlib.pyplot as plt\n",
    "import seaborn as sns"
   ]
  },
  {
   "cell_type": "code",
   "execution_count": 7,
   "metadata": {},
   "outputs": [
    {
     "name": "stdout",
     "output_type": "stream",
     "text": [
      "C:\\Users\\wjdqh\\Desktop\\DataScience\\러닝스푼즈\\파이썬기초\\Ch2)Pandas_Basic\n"
     ]
    }
   ],
   "source": [
    "import os\n",
    "\n",
    "#현재 폴더 경로; 작업 폴더 기준\n",
    "print(os.getcwd())"
   ]
  },
  {
   "cell_type": "code",
   "execution_count": 15,
   "metadata": {},
   "outputs": [
    {
     "data": {
      "text/plain": [
       "'C:/Users/wjdqh/Desktop/DataScience/러닝스푼즈/파이썬기초/Ch2)Pandas_Basic'"
      ]
     },
     "execution_count": 15,
     "metadata": {},
     "output_type": "execute_result"
    }
   ],
   "source": [
    "current_path = os.getcwd()\n",
    "\n",
    "current_path = current_path.replace('\\\\','/')\n",
    "current_path"
   ]
  },
  {
   "cell_type": "code",
   "execution_count": 23,
   "metadata": {},
   "outputs": [
    {
     "name": "stdout",
     "output_type": "stream",
     "text": [
      "C:/Users/wjdqh/Desktop/DataScience/러닝스푼즈/파이썬기초/Ch2)Pandas_Basic/data\\babyNamesUS.csv\n",
      "C:/Users/wjdqh/Desktop/DataScience/러닝스푼즈/파이썬기초/Ch2)Pandas_Basic/data\\babyNamesUS.xlsx\n"
     ]
    }
   ],
   "source": [
    "# 파일 정보 확인\n",
    "import glob\n",
    "for file in glob.glob(current_path + '/data/baby*'): print(file)"
   ]
  },
  {
   "cell_type": "code",
   "execution_count": 24,
   "metadata": {},
   "outputs": [
    {
     "data": {
      "text/html": [
       "<div>\n",
       "<style scoped>\n",
       "    .dataframe tbody tr th:only-of-type {\n",
       "        vertical-align: middle;\n",
       "    }\n",
       "\n",
       "    .dataframe tbody tr th {\n",
       "        vertical-align: top;\n",
       "    }\n",
       "\n",
       "    .dataframe thead th {\n",
       "        text-align: right;\n",
       "    }\n",
       "</style>\n",
       "<table border=\"1\" class=\"dataframe\">\n",
       "  <thead>\n",
       "    <tr style=\"text-align: right;\">\n",
       "      <th></th>\n",
       "      <th>StateCode</th>\n",
       "      <th>Sex</th>\n",
       "      <th>YearOfBirth</th>\n",
       "      <th>Name</th>\n",
       "      <th>Number</th>\n",
       "    </tr>\n",
       "  </thead>\n",
       "  <tbody>\n",
       "    <tr>\n",
       "      <th>0</th>\n",
       "      <td>AK</td>\n",
       "      <td>F</td>\n",
       "      <td>1910</td>\n",
       "      <td>Mary</td>\n",
       "      <td>14</td>\n",
       "    </tr>\n",
       "    <tr>\n",
       "      <th>1</th>\n",
       "      <td>AK</td>\n",
       "      <td>F</td>\n",
       "      <td>1910</td>\n",
       "      <td>Annie</td>\n",
       "      <td>12</td>\n",
       "    </tr>\n",
       "    <tr>\n",
       "      <th>2</th>\n",
       "      <td>AK</td>\n",
       "      <td>F</td>\n",
       "      <td>1910</td>\n",
       "      <td>Anna</td>\n",
       "      <td>10</td>\n",
       "    </tr>\n",
       "    <tr>\n",
       "      <th>3</th>\n",
       "      <td>AK</td>\n",
       "      <td>F</td>\n",
       "      <td>1910</td>\n",
       "      <td>Margaret</td>\n",
       "      <td>8</td>\n",
       "    </tr>\n",
       "    <tr>\n",
       "      <th>4</th>\n",
       "      <td>AK</td>\n",
       "      <td>F</td>\n",
       "      <td>1910</td>\n",
       "      <td>Helen</td>\n",
       "      <td>7</td>\n",
       "    </tr>\n",
       "  </tbody>\n",
       "</table>\n",
       "</div>"
      ],
      "text/plain": [
       "  StateCode Sex  YearOfBirth      Name  Number\n",
       "0        AK   F         1910      Mary      14\n",
       "1        AK   F         1910     Annie      12\n",
       "2        AK   F         1910      Anna      10\n",
       "3        AK   F         1910  Margaret       8\n",
       "4        AK   F         1910     Helen       7"
      ]
     },
     "execution_count": 24,
     "metadata": {},
     "output_type": "execute_result"
    }
   ],
   "source": [
    "# 파일 읽어오기\n",
    "file_dir = current_path + '/data/babyNamesUS.csv'\n",
    "baby_names = pd.read_csv(file_dir)\n",
    "baby_names.head()"
   ]
  },
  {
   "cell_type": "code",
   "execution_count": 25,
   "metadata": {},
   "outputs": [
    {
     "name": "stdout",
     "output_type": "stream",
     "text": [
      "1910\n",
      "2015\n"
     ]
    }
   ],
   "source": [
    "# 파일이 어느 년도까지의 정보를 가지고 있는지 확인한다\n",
    "print(min(baby_names.YearOfBirth))\n",
    "print(max(baby_names.YearOfBirth))"
   ]
  },
  {
   "cell_type": "markdown",
   "metadata": {},
   "source": [
    "#### * Comment : 안타깝게도 2015년도 출생까지의 이름만 담고 있다. 하지만 2015년생이면 현재 2021년 한국나이 기준으로 7세이므로, 영어이름으로 사용할 용도로는 적당한 trend라고 볼 수 있겠다."
   ]
  },
  {
   "cell_type": "markdown",
   "metadata": {},
   "source": [
    "## 가장 많이 사용된 이름 상위권\n",
    " - 전체\n",
    " - 성별\n",
    " - 년도 구간별 + 성별"
   ]
  },
  {
   "cell_type": "markdown",
   "metadata": {},
   "source": [
    "#### - 전체"
   ]
  },
  {
   "cell_type": "code",
   "execution_count": 30,
   "metadata": {},
   "outputs": [
    {
     "data": {
      "text/html": [
       "<div>\n",
       "<style scoped>\n",
       "    .dataframe tbody tr th:only-of-type {\n",
       "        vertical-align: middle;\n",
       "    }\n",
       "\n",
       "    .dataframe tbody tr th {\n",
       "        vertical-align: top;\n",
       "    }\n",
       "\n",
       "    .dataframe thead th {\n",
       "        text-align: right;\n",
       "    }\n",
       "</style>\n",
       "<table border=\"1\" class=\"dataframe\">\n",
       "  <thead>\n",
       "    <tr style=\"text-align: right;\">\n",
       "      <th></th>\n",
       "      <th>Number</th>\n",
       "    </tr>\n",
       "    <tr>\n",
       "      <th>Name</th>\n",
       "      <th></th>\n",
       "    </tr>\n",
       "  </thead>\n",
       "  <tbody>\n",
       "    <tr>\n",
       "      <th>Michael</th>\n",
       "      <td>729890</td>\n",
       "    </tr>\n",
       "    <tr>\n",
       "      <th>James</th>\n",
       "      <td>696321</td>\n",
       "    </tr>\n",
       "    <tr>\n",
       "      <th>Robert</th>\n",
       "      <td>677403</td>\n",
       "    </tr>\n",
       "    <tr>\n",
       "      <th>John</th>\n",
       "      <td>673291</td>\n",
       "    </tr>\n",
       "    <tr>\n",
       "      <th>David</th>\n",
       "      <td>617946</td>\n",
       "    </tr>\n",
       "    <tr>\n",
       "      <th>Mary</th>\n",
       "      <td>520762</td>\n",
       "    </tr>\n",
       "    <tr>\n",
       "      <th>William</th>\n",
       "      <td>519198</td>\n",
       "    </tr>\n",
       "    <tr>\n",
       "      <th>Richard</th>\n",
       "      <td>383524</td>\n",
       "    </tr>\n",
       "    <tr>\n",
       "      <th>Christopher</th>\n",
       "      <td>379723</td>\n",
       "    </tr>\n",
       "    <tr>\n",
       "      <th>Daniel</th>\n",
       "      <td>375030</td>\n",
       "    </tr>\n",
       "  </tbody>\n",
       "</table>\n",
       "</div>"
      ],
      "text/plain": [
       "             Number\n",
       "Name               \n",
       "Michael      729890\n",
       "James        696321\n",
       "Robert       677403\n",
       "John         673291\n",
       "David        617946\n",
       "Mary         520762\n",
       "William      519198\n",
       "Richard      383524\n",
       "Christopher  379723\n",
       "Daniel       375030"
      ]
     },
     "metadata": {},
     "output_type": "display_data"
    }
   ],
   "source": [
    "display(baby_names.groupby('Name').agg({'Number':'sum'}).sort_values('Number',ascending=False).head(10))\n",
    "\n",
    "'''\n",
    "상위권에 남자로 추정되는 이름이 대부분인 것으로 확인된다.\n",
    "'''"
   ]
  },
  {
   "cell_type": "code",
   "execution_count": 76,
   "metadata": {},
   "outputs": [
    {
     "data": {
      "image/png": "[encoded data removed]",
      "text/plain": [
       "<Figure size 842.4x595.44 with 1 Axes>"
      ]
     },
     "metadata": {},
     "output_type": "display_data"
    },
    {
     "name": "stdout",
     "output_type": "stream",
     "text": [
      "TOP10 Names:  ['Michael', 'James', 'Robert', 'John', 'David', 'Mary', 'William', 'Richard', 'Christopher', 'Daniel']\n"
     ]
    }
   ],
   "source": [
    "# 시각화\n",
    "%matplotlib inline\n",
    "sns.set(rc={'figure.figsize':(11.7,8.27)})\n",
    "cnt_name = baby_names.groupby('Name').agg({'Number':'sum'}).sort_values('Number',ascending=False).reset_index().head(10)\n",
    "\n",
    "g = sns.barplot(data = cnt_name, x = 'Name', y = 'Number')\n",
    "\n",
    "for index, row in cnt_name.iterrows():\n",
    "    g.text(row.name,row.Number, round(row.Number), color='black', ha=\"center\")\n",
    "    \n",
    "plt.title('TOP10 Of Baby Names In US 1910 ~ 2015(Year)')\n",
    "plt.show()\n",
    "print(\"TOP10 Names: \", cnt_name.Name.to_list())"
   ]
  },
  {
   "cell_type": "markdown",
   "metadata": {},
   "source": [
    "#### - 성별"
   ]
  },
  {
   "cell_type": "code",
   "execution_count": 96,
   "metadata": {},
   "outputs": [
    {
     "data": {
      "text/html": [
       "<div>\n",
       "<style scoped>\n",
       "    .dataframe tbody tr th:only-of-type {\n",
       "        vertical-align: middle;\n",
       "    }\n",
       "\n",
       "    .dataframe tbody tr th {\n",
       "        vertical-align: top;\n",
       "    }\n",
       "\n",
       "    .dataframe thead th {\n",
       "        text-align: right;\n",
       "    }\n",
       "</style>\n",
       "<table border=\"1\" class=\"dataframe\">\n",
       "  <thead>\n",
       "    <tr style=\"text-align: right;\">\n",
       "      <th>Sex</th>\n",
       "      <th>Name</th>\n",
       "      <th>F</th>\n",
       "    </tr>\n",
       "  </thead>\n",
       "  <tbody>\n",
       "    <tr>\n",
       "      <th>13510</th>\n",
       "      <td>Mary</td>\n",
       "      <td>519443</td>\n",
       "    </tr>\n",
       "    <tr>\n",
       "      <th>9248</th>\n",
       "      <td>Jennifer</td>\n",
       "      <td>325383</td>\n",
       "    </tr>\n",
       "    <tr>\n",
       "      <th>6009</th>\n",
       "      <td>Elizabeth</td>\n",
       "      <td>273414</td>\n",
       "    </tr>\n",
       "    <tr>\n",
       "      <th>15503</th>\n",
       "      <td>Patricia</td>\n",
       "      <td>257008</td>\n",
       "    </tr>\n",
       "    <tr>\n",
       "      <th>12292</th>\n",
       "      <td>Linda</td>\n",
       "      <td>249999</td>\n",
       "    </tr>\n",
       "    <tr>\n",
       "      <th>9398</th>\n",
       "      <td>Jessica</td>\n",
       "      <td>247326</td>\n",
       "    </tr>\n",
       "    <tr>\n",
       "      <th>2413</th>\n",
       "      <td>Barbara</td>\n",
       "      <td>217189</td>\n",
       "    </tr>\n",
       "    <tr>\n",
       "      <th>17042</th>\n",
       "      <td>Sarah</td>\n",
       "      <td>194021</td>\n",
       "    </tr>\n",
       "    <tr>\n",
       "      <th>14028</th>\n",
       "      <td>Michelle</td>\n",
       "      <td>189041</td>\n",
       "    </tr>\n",
       "    <tr>\n",
       "      <th>1974</th>\n",
       "      <td>Ashley</td>\n",
       "      <td>186366</td>\n",
       "    </tr>\n",
       "  </tbody>\n",
       "</table>\n",
       "</div>"
      ],
      "text/plain": [
       "Sex         Name       F\n",
       "13510       Mary  519443\n",
       "9248    Jennifer  325383\n",
       "6009   Elizabeth  273414\n",
       "15503   Patricia  257008\n",
       "12292      Linda  249999\n",
       "9398     Jessica  247326\n",
       "2413     Barbara  217189\n",
       "17042      Sarah  194021\n",
       "14028   Michelle  189041\n",
       "1974      Ashley  186366"
      ]
     },
     "metadata": {},
     "output_type": "display_data"
    },
    {
     "data": {
      "text/html": [
       "<div>\n",
       "<style scoped>\n",
       "    .dataframe tbody tr th:only-of-type {\n",
       "        vertical-align: middle;\n",
       "    }\n",
       "\n",
       "    .dataframe tbody tr th {\n",
       "        vertical-align: top;\n",
       "    }\n",
       "\n",
       "    .dataframe thead th {\n",
       "        text-align: right;\n",
       "    }\n",
       "</style>\n",
       "<table border=\"1\" class=\"dataframe\">\n",
       "  <thead>\n",
       "    <tr style=\"text-align: right;\">\n",
       "      <th>Sex</th>\n",
       "      <th>Name</th>\n",
       "      <th>M</th>\n",
       "    </tr>\n",
       "  </thead>\n",
       "  <tbody>\n",
       "    <tr>\n",
       "      <th>13999</th>\n",
       "      <td>Michael</td>\n",
       "      <td>725757</td>\n",
       "    </tr>\n",
       "    <tr>\n",
       "      <th>8662</th>\n",
       "      <td>James</td>\n",
       "      <td>693271</td>\n",
       "    </tr>\n",
       "    <tr>\n",
       "      <th>16404</th>\n",
       "      <td>Robert</td>\n",
       "      <td>674934</td>\n",
       "    </tr>\n",
       "    <tr>\n",
       "      <th>9606</th>\n",
       "      <td>John</td>\n",
       "      <td>670893</td>\n",
       "    </tr>\n",
       "    <tr>\n",
       "      <th>4821</th>\n",
       "      <td>David</td>\n",
       "      <td>615943</td>\n",
       "    </tr>\n",
       "    <tr>\n",
       "      <th>19996</th>\n",
       "      <td>William</td>\n",
       "      <td>517796</td>\n",
       "    </tr>\n",
       "    <tr>\n",
       "      <th>16303</th>\n",
       "      <td>Richard</td>\n",
       "      <td>382479</td>\n",
       "    </tr>\n",
       "    <tr>\n",
       "      <th>3943</th>\n",
       "      <td>Christopher</td>\n",
       "      <td>378022</td>\n",
       "    </tr>\n",
       "    <tr>\n",
       "      <th>4630</th>\n",
       "      <td>Daniel</td>\n",
       "      <td>373549</td>\n",
       "    </tr>\n",
       "    <tr>\n",
       "      <th>9776</th>\n",
       "      <td>Joseph</td>\n",
       "      <td>341757</td>\n",
       "    </tr>\n",
       "  </tbody>\n",
       "</table>\n",
       "</div>"
      ],
      "text/plain": [
       "Sex           Name       M\n",
       "13999      Michael  725757\n",
       "8662         James  693271\n",
       "16404       Robert  674934\n",
       "9606          John  670893\n",
       "4821         David  615943\n",
       "19996      William  517796\n",
       "16303      Richard  382479\n",
       "3943   Christopher  378022\n",
       "4630        Daniel  373549\n",
       "9776        Joseph  341757"
      ]
     },
     "metadata": {},
     "output_type": "display_data"
    },
    {
     "data": {
      "image/png": "[encoded data removed]",
      "text/plain": [
       "<Figure size 842.4x595.44 with 1 Axes>"
      ]
     },
     "metadata": {},
     "output_type": "display_data"
    },
    {
     "data": {
      "image/png": "[encoded data removed]",
      "text/plain": [
       "<Figure size 842.4x595.44 with 1 Axes>"
      ]
     },
     "metadata": {},
     "output_type": "display_data"
    },
    {
     "name": "stdout",
     "output_type": "stream",
     "text": [
      "TOP10 Baby Names Of Female:  ['Mary' 'Jennifer' 'Elizabeth' 'Patricia' 'Linda' 'Jessica' 'Barbara'\n",
      " 'Sarah' 'Michelle' 'Ashley']\n",
      " \n",
      "TOP10 Baby Names Of Male:  ['Michael' 'James' 'Robert' 'John' 'David' 'William' 'Richard'\n",
      " 'Christopher' 'Daniel' 'Joseph']\n"
     ]
    }
   ],
   "source": [
    "names_sex = baby_names.pivot_table(values='Number',index='Name',columns='Sex',aggfunc='sum', fill_value = 0).reset_index()\n",
    "top10_f = names_sex[['Name','F']].sort_values('F',ascending=False).head(10)\n",
    "top10_m = names_sex[['Name','M']].sort_values('M',ascending=False).head(10)\n",
    "display(top10_f), display(top10_m)\n",
    "\n",
    "g = sns.barplot(y='F', x='Name', data=top10_f)\n",
    "plt.title(\"TOP10 Baby Names of Female \", size=12)\n",
    "plt.show()\n",
    "\n",
    "g1 = sns.barplot(y='M', x='Name', data=top10_m)\n",
    "plt.title('TOP10 Baby Names of Male', size = 12)\n",
    "plt.show()\n",
    "\n",
    "print(\"TOP10 Baby Names Of Female: \", top10_f.Name.values)\n",
    "print(' ')\n",
    "print(\"TOP10 Baby Names Of Male: \", top10_m.Name.values)"
   ]
  },
  {
   "cell_type": "markdown",
   "metadata": {},
   "source": [
    "#### - 연도 구간별 + 성별"
   ]
  },
  {
   "cell_type": "code",
   "execution_count": 108,
   "metadata": {},
   "outputs": [
    {
     "data": {
      "text/plain": [
       "[]"
      ]
     },
     "execution_count": 108,
     "metadata": {},
     "output_type": "execute_result"
    }
   ],
   "source": [
    "year_list = list(baby_names.YearOfBirth.unique())\n",
    "#print(type(year_list[0]))\n",
    "full_years = list(range(1910,2016))\n",
    "#min(full_years), max(full_years)\n",
    "\n",
    "# 데이터에 빠진 년도 없는지 확인\n",
    "[i for i in full_years if i not in year_list]"
   ]
  },
  {
   "cell_type": "code",
   "execution_count": 110,
   "metadata": {},
   "outputs": [
    {
     "data": {
      "text/html": [
       "<div>\n",
       "<style scoped>\n",
       "    .dataframe tbody tr th:only-of-type {\n",
       "        vertical-align: middle;\n",
       "    }\n",
       "\n",
       "    .dataframe tbody tr th {\n",
       "        vertical-align: top;\n",
       "    }\n",
       "\n",
       "    .dataframe thead th {\n",
       "        text-align: right;\n",
       "    }\n",
       "</style>\n",
       "<table border=\"1\" class=\"dataframe\">\n",
       "  <thead>\n",
       "    <tr style=\"text-align: right;\">\n",
       "      <th></th>\n",
       "      <th>StateCode</th>\n",
       "      <th>Sex</th>\n",
       "      <th>YearOfBirth</th>\n",
       "      <th>Name</th>\n",
       "      <th>Number</th>\n",
       "      <th>year_range</th>\n",
       "    </tr>\n",
       "  </thead>\n",
       "  <tbody>\n",
       "    <tr>\n",
       "      <th>0</th>\n",
       "      <td>AK</td>\n",
       "      <td>F</td>\n",
       "      <td>1910</td>\n",
       "      <td>Mary</td>\n",
       "      <td>14</td>\n",
       "      <td>before1940</td>\n",
       "    </tr>\n",
       "    <tr>\n",
       "      <th>1</th>\n",
       "      <td>AK</td>\n",
       "      <td>F</td>\n",
       "      <td>1910</td>\n",
       "      <td>Annie</td>\n",
       "      <td>12</td>\n",
       "      <td>before1940</td>\n",
       "    </tr>\n",
       "    <tr>\n",
       "      <th>2</th>\n",
       "      <td>AK</td>\n",
       "      <td>F</td>\n",
       "      <td>1910</td>\n",
       "      <td>Anna</td>\n",
       "      <td>10</td>\n",
       "      <td>before1940</td>\n",
       "    </tr>\n",
       "    <tr>\n",
       "      <th>3</th>\n",
       "      <td>AK</td>\n",
       "      <td>F</td>\n",
       "      <td>1910</td>\n",
       "      <td>Margaret</td>\n",
       "      <td>8</td>\n",
       "      <td>before1940</td>\n",
       "    </tr>\n",
       "    <tr>\n",
       "      <th>4</th>\n",
       "      <td>AK</td>\n",
       "      <td>F</td>\n",
       "      <td>1910</td>\n",
       "      <td>Helen</td>\n",
       "      <td>7</td>\n",
       "      <td>before1940</td>\n",
       "    </tr>\n",
       "  </tbody>\n",
       "</table>\n",
       "</div>"
      ],
      "text/plain": [
       "  StateCode Sex  YearOfBirth      Name  Number  year_range\n",
       "0        AK   F         1910      Mary      14  before1940\n",
       "1        AK   F         1910     Annie      12  before1940\n",
       "2        AK   F         1910      Anna      10  before1940\n",
       "3        AK   F         1910  Margaret       8  before1940\n",
       "4        AK   F         1910     Helen       7  before1940"
      ]
     },
     "execution_count": 110,
     "metadata": {},
     "output_type": "execute_result"
    }
   ],
   "source": [
    "def make_year_range(year):\n",
    "    # 최근으로 올수록 trend 변화가 빠르게 변했을 것으로 생각하여 구간 간격을 주관적으로 정하였음\n",
    "    if year <= 1940:\n",
    "        return \"before1940\"\n",
    "    elif year <= 1960:\n",
    "        return \"before1960\"\n",
    "    elif year <= 1990:\n",
    "        return \"before1990\"\n",
    "    elif year <= 2001:\n",
    "        return \"before2001\"\n",
    "    elif year <= 2008:\n",
    "        return \"before2008\"\n",
    "    elif year <= 2015:\n",
    "        return \"before2015\"\n",
    "    \n",
    "baby_names['year_range'] = baby_names['YearOfBirth'].apply(lambda x: make_year_range(x))\n",
    "\n",
    "baby_names.head()"
   ]
  },
  {
   "cell_type": "code",
   "execution_count": 132,
   "metadata": {},
   "outputs": [
    {
     "data": {
      "image/png": "[encoded data removed]",
      "text/plain": [
       "<Figure size 576x432 with 1 Axes>"
      ]
     },
     "metadata": {},
     "output_type": "display_data"
    },
    {
     "data": {
      "image/png": "[encoded data removed]",
      "text/plain": [
       "<Figure size 576x432 with 1 Axes>"
      ]
     },
     "metadata": {},
     "output_type": "display_data"
    },
    {
     "data": {
      "image/png": "[encoded data removed]",
      "text/plain": [
       "<Figure size 576x432 with 1 Axes>"
      ]
     },
     "metadata": {},
     "output_type": "display_data"
    },
    {
     "data": {
      "image/png": "[encoded data removed]",
      "text/plain": [
       "<Figure size 576x432 with 1 Axes>"
      ]
     },
     "metadata": {},
     "output_type": "display_data"
    },
    {
     "data": {
      "image/png": "[encoded data removed]",
      "text/plain": [
       "<Figure size 576x432 with 1 Axes>"
      ]
     },
     "metadata": {},
     "output_type": "display_data"
    },
    {
     "data": {
      "image/png": "[encoded data removed]",
      "text/plain": [
       "<Figure size 576x432 with 1 Axes>"
      ]
     },
     "metadata": {},
     "output_type": "display_data"
    }
   ],
   "source": [
    "sns.set(rc={'figure.figsize':(8,6)})\n",
    "female_names = baby_names[baby_names.Sex == 'F']\n",
    "\n",
    "for year_range in female_names.year_range.unique():\n",
    "    result_part = female_names[female_names.year_range == year_range].groupby('Name').agg({'Number':'sum'}).reset_index().sort_values('Number',ascending=False).head()\n",
    "    #display(result_part)\n",
    "    sns.barplot(data = result_part, x = 'Name', y = 'Number')\n",
    "    plt.title(f'TOP5 Female Baby Names in {year_range}')\n",
    "    plt.show()"
   ]
  },
  {
   "cell_type": "markdown",
   "metadata": {},
   "source": [
    "#### 시대별 Female Name TOP 확인결과\n",
    "- 1960년 이전까지는 Mary라는 이름이 압도적이었다가, 1960년도 이후 아예 사라지고 Jessica가 새로운 대세가 된다!\n",
    "- 조금 올드하다고 생각하는 이름들이 2000년대에 Baby Name TOP에 있어서 놀랐다!\n",
    "- Emma는 엠마 왓슨이나 엠마 스톤때문에 많이들 쓰는걸까..?"
   ]
  },
  {
   "cell_type": "code",
   "execution_count": 134,
   "metadata": {},
   "outputs": [
    {
     "data": {
      "text/html": [
       "<div>\n",
       "<style scoped>\n",
       "    .dataframe tbody tr th:only-of-type {\n",
       "        vertical-align: middle;\n",
       "    }\n",
       "\n",
       "    .dataframe tbody tr th {\n",
       "        vertical-align: top;\n",
       "    }\n",
       "\n",
       "    .dataframe thead th {\n",
       "        text-align: right;\n",
       "    }\n",
       "</style>\n",
       "<table border=\"1\" class=\"dataframe\">\n",
       "  <thead>\n",
       "    <tr style=\"text-align: right;\">\n",
       "      <th></th>\n",
       "      <th>Number</th>\n",
       "    </tr>\n",
       "    <tr>\n",
       "      <th>Name</th>\n",
       "      <th></th>\n",
       "    </tr>\n",
       "  </thead>\n",
       "  <tbody>\n",
       "    <tr>\n",
       "      <th>Emma</th>\n",
       "      <td>4340</td>\n",
       "    </tr>\n",
       "    <tr>\n",
       "      <th>Sophia</th>\n",
       "      <td>4253</td>\n",
       "    </tr>\n",
       "    <tr>\n",
       "      <th>Mia</th>\n",
       "      <td>4054</td>\n",
       "    </tr>\n",
       "    <tr>\n",
       "      <th>Olivia</th>\n",
       "      <td>4049</td>\n",
       "    </tr>\n",
       "    <tr>\n",
       "      <th>Isabella</th>\n",
       "      <td>3517</td>\n",
       "    </tr>\n",
       "    <tr>\n",
       "      <th>Emily</th>\n",
       "      <td>3023</td>\n",
       "    </tr>\n",
       "    <tr>\n",
       "      <th>Ava</th>\n",
       "      <td>2845</td>\n",
       "    </tr>\n",
       "    <tr>\n",
       "      <th>Sofia</th>\n",
       "      <td>2771</td>\n",
       "    </tr>\n",
       "    <tr>\n",
       "      <th>Abigail</th>\n",
       "      <td>2699</td>\n",
       "    </tr>\n",
       "    <tr>\n",
       "      <th>Charlotte</th>\n",
       "      <td>2246</td>\n",
       "    </tr>\n",
       "  </tbody>\n",
       "</table>\n",
       "</div>"
      ],
      "text/plain": [
       "           Number\n",
       "Name             \n",
       "Emma         4340\n",
       "Sophia       4253\n",
       "Mia          4054\n",
       "Olivia       4049\n",
       "Isabella     3517\n",
       "Emily        3023\n",
       "Ava          2845\n",
       "Sofia        2771\n",
       "Abigail      2699\n",
       "Charlotte    2246"
      ]
     },
     "execution_count": 134,
     "metadata": {},
     "output_type": "execute_result"
    }
   ],
   "source": [
    "# 가장 최근년도 트렌드 살피기\n",
    "female_names[female_names['YearOfBirth'] == 2015].groupby('Name').agg({'Number':'sum'}).sort_values('Number',ascending=False).head(10)"
   ]
  },
  {
   "cell_type": "code",
   "execution_count": 135,
   "metadata": {},
   "outputs": [
    {
     "data": {
      "image/png": "[encoded data removed]",
      "text/plain": [
       "<Figure size 576x432 with 1 Axes>"
      ]
     },
     "metadata": {},
     "output_type": "display_data"
    },
    {
     "data": {
      "image/png": "[encoded data removed]",
      "text/plain": [
       "<Figure size 576x432 with 1 Axes>"
      ]
     },
     "metadata": {},
     "output_type": "display_data"
    },
    {
     "data": {
      "image/png": "[encoded data removed]",
      "text/plain": [
       "<Figure size 576x432 with 1 Axes>"
      ]
     },
     "metadata": {},
     "output_type": "display_data"
    },
    {
     "data": {
      "image/png": "[encoded data removed]",
      "text/plain": [
       "<Figure size 576x432 with 1 Axes>"
      ]
     },
     "metadata": {},
     "output_type": "display_data"
    },
    {
     "data": {
      "image/png": "[encoded data removed]",
      "text/plain": [
       "<Figure size 576x432 with 1 Axes>"
      ]
     },
     "metadata": {},
     "output_type": "display_data"
    },
    {
     "data": {
      "image/png": "[encoded data removed]",
      "text/plain": [
       "<Figure size 576x432 with 1 Axes>"
      ]
     },
     "metadata": {},
     "output_type": "display_data"
    }
   ],
   "source": [
    "## 남자\n",
    "male_names = baby_names[baby_names.Sex == 'M']\n",
    "\n",
    "for year_range in male_names.year_range.unique():\n",
    "    result_part = male_names[male_names.year_range == year_range].groupby('Name').agg({'Number':'sum'}).reset_index().sort_values('Number',ascending=False).head()\n",
    "    #display(result_part)\n",
    "    sns.barplot(data = result_part, x = 'Name', y = 'Number')\n",
    "    plt.title(f'TOP5 Male Baby Names in {year_range}')\n",
    "    plt.show()"
   ]
  },
  {
   "cell_type": "markdown",
   "metadata": {},
   "source": [
    "#### 시대별 Male baby name 확인결과\n",
    "- 남자 아이 이름도 최근으로 와도 무난한 이름들이 대세인 것으로 보인다!\n",
    "- 그래도 \"before2015\" 구간은 조금 변화가 보이는데, \"Noah\", \"Ethan\"과 같은 이름이 등장한다."
   ]
  },
  {
   "cell_type": "code",
   "execution_count": 142,
   "metadata": {},
   "outputs": [
    {
     "data": {
      "text/html": [
       "<div>\n",
       "<style scoped>\n",
       "    .dataframe tbody tr th:only-of-type {\n",
       "        vertical-align: middle;\n",
       "    }\n",
       "\n",
       "    .dataframe tbody tr th {\n",
       "        vertical-align: top;\n",
       "    }\n",
       "\n",
       "    .dataframe thead th {\n",
       "        text-align: right;\n",
       "    }\n",
       "</style>\n",
       "<table border=\"1\" class=\"dataframe\">\n",
       "  <thead>\n",
       "    <tr style=\"text-align: right;\">\n",
       "      <th></th>\n",
       "      <th>StateCode</th>\n",
       "      <th>Sex</th>\n",
       "      <th>YearOfBirth</th>\n",
       "      <th>Name</th>\n",
       "      <th>Number</th>\n",
       "      <th>year_range</th>\n",
       "    </tr>\n",
       "  </thead>\n",
       "  <tbody>\n",
       "    <tr>\n",
       "      <th>13979</th>\n",
       "      <td>AK</td>\n",
       "      <td>M</td>\n",
       "      <td>1910</td>\n",
       "      <td>John</td>\n",
       "      <td>8</td>\n",
       "      <td>before1940</td>\n",
       "    </tr>\n",
       "    <tr>\n",
       "      <th>13980</th>\n",
       "      <td>AK</td>\n",
       "      <td>M</td>\n",
       "      <td>1910</td>\n",
       "      <td>James</td>\n",
       "      <td>7</td>\n",
       "      <td>before1940</td>\n",
       "    </tr>\n",
       "  </tbody>\n",
       "</table>\n",
       "</div>"
      ],
      "text/plain": [
       "      StateCode Sex  YearOfBirth   Name  Number  year_range\n",
       "13979        AK   M         1910   John       8  before1940\n",
       "13980        AK   M         1910  James       7  before1940"
      ]
     },
     "execution_count": 142,
     "metadata": {},
     "output_type": "execute_result"
    }
   ],
   "source": [
    "male_names.head(2)"
   ]
  },
  {
   "cell_type": "code",
   "execution_count": 144,
   "metadata": {},
   "outputs": [
    {
     "name": "stdout",
     "output_type": "stream",
     "text": [
      "<남자 아이 이름 다양성 변화>\n"
     ]
    },
    {
     "data": {
      "text/html": [
       "<div>\n",
       "<style scoped>\n",
       "    .dataframe tbody tr th:only-of-type {\n",
       "        vertical-align: middle;\n",
       "    }\n",
       "\n",
       "    .dataframe tbody tr th {\n",
       "        vertical-align: top;\n",
       "    }\n",
       "\n",
       "    .dataframe thead th {\n",
       "        text-align: right;\n",
       "    }\n",
       "</style>\n",
       "<table border=\"1\" class=\"dataframe\">\n",
       "  <thead>\n",
       "    <tr style=\"text-align: right;\">\n",
       "      <th></th>\n",
       "      <th>name_cnt</th>\n",
       "      <th>total_cnt</th>\n",
       "    </tr>\n",
       "    <tr>\n",
       "      <th>year_range</th>\n",
       "      <th></th>\n",
       "      <th></th>\n",
       "    </tr>\n",
       "  </thead>\n",
       "  <tbody>\n",
       "    <tr>\n",
       "      <th>before1940</th>\n",
       "      <td>1928</td>\n",
       "      <td>67315</td>\n",
       "    </tr>\n",
       "    <tr>\n",
       "      <th>before1960</th>\n",
       "      <td>1965</td>\n",
       "      <td>64249</td>\n",
       "    </tr>\n",
       "    <tr>\n",
       "      <th>before1990</th>\n",
       "      <td>4489</td>\n",
       "      <td>131713</td>\n",
       "    </tr>\n",
       "    <tr>\n",
       "      <th>before2001</th>\n",
       "      <td>4863</td>\n",
       "      <td>66781</td>\n",
       "    </tr>\n",
       "    <tr>\n",
       "      <th>before2008</th>\n",
       "      <td>4639</td>\n",
       "      <td>49079</td>\n",
       "    </tr>\n",
       "    <tr>\n",
       "      <th>before2015</th>\n",
       "      <td>4844</td>\n",
       "      <td>51930</td>\n",
       "    </tr>\n",
       "  </tbody>\n",
       "</table>\n",
       "</div>"
      ],
      "text/plain": [
       "            name_cnt  total_cnt\n",
       "year_range                     \n",
       "before1940      1928      67315\n",
       "before1960      1965      64249\n",
       "before1990      4489     131713\n",
       "before2001      4863      66781\n",
       "before2008      4639      49079\n",
       "before2015      4844      51930"
      ]
     },
     "metadata": {},
     "output_type": "display_data"
    },
    {
     "name": "stdout",
     "output_type": "stream",
     "text": [
      "========================================\n",
      "<여자 아이 이름 다양성 변화>\n"
     ]
    },
    {
     "data": {
      "text/html": [
       "<div>\n",
       "<style scoped>\n",
       "    .dataframe tbody tr th:only-of-type {\n",
       "        vertical-align: middle;\n",
       "    }\n",
       "\n",
       "    .dataframe tbody tr th {\n",
       "        vertical-align: top;\n",
       "    }\n",
       "\n",
       "    .dataframe thead th {\n",
       "        text-align: right;\n",
       "    }\n",
       "</style>\n",
       "<table border=\"1\" class=\"dataframe\">\n",
       "  <thead>\n",
       "    <tr style=\"text-align: right;\">\n",
       "      <th></th>\n",
       "      <th>name_cnt</th>\n",
       "      <th>total_cnt</th>\n",
       "    </tr>\n",
       "    <tr>\n",
       "      <th>year_range</th>\n",
       "      <th></th>\n",
       "      <th></th>\n",
       "    </tr>\n",
       "  </thead>\n",
       "  <tbody>\n",
       "    <tr>\n",
       "      <th>before1940</th>\n",
       "      <td>2255</td>\n",
       "      <td>89829</td>\n",
       "    </tr>\n",
       "    <tr>\n",
       "      <th>before1960</th>\n",
       "      <td>3056</td>\n",
       "      <td>94527</td>\n",
       "    </tr>\n",
       "    <tr>\n",
       "      <th>before1990</th>\n",
       "      <td>7497</td>\n",
       "      <td>211824</td>\n",
       "    </tr>\n",
       "    <tr>\n",
       "      <th>before2001</th>\n",
       "      <td>7439</td>\n",
       "      <td>91875</td>\n",
       "    </tr>\n",
       "    <tr>\n",
       "      <th>before2008</th>\n",
       "      <td>6967</td>\n",
       "      <td>64643</td>\n",
       "    </tr>\n",
       "    <tr>\n",
       "      <th>before2015</th>\n",
       "      <td>6875</td>\n",
       "      <td>64810</td>\n",
       "    </tr>\n",
       "  </tbody>\n",
       "</table>\n",
       "</div>"
      ],
      "text/plain": [
       "            name_cnt  total_cnt\n",
       "year_range                     \n",
       "before1940      2255      89829\n",
       "before1960      3056      94527\n",
       "before1990      7497     211824\n",
       "before2001      7439      91875\n",
       "before2008      6967      64643\n",
       "before2015      6875      64810"
      ]
     },
     "metadata": {},
     "output_type": "display_data"
    }
   ],
   "source": [
    "print('<남자 아이 이름 다양성 변화>')\n",
    "display(male_names.groupby('year_range').agg({'Name':'nunique','Sex':'count'}).rename(columns = {'Name':'name_cnt','Sex':'total_cnt'}))\n",
    "print('========================================')\n",
    "print('<여자 아이 이름 다양성 변화>')\n",
    "display(female_names.groupby('year_range').agg({'Name':'nunique','Sex':'count'}).rename(columns = {'Name':'name_cnt','Sex':'total_cnt'}))"
   ]
  },
  {
   "cell_type": "markdown",
   "metadata": {},
   "source": [
    "## 중성적인 느낌의 이름을 찾고 싶다면?\n",
    "- 성별에 따른 사용 수의 차이가 적은 이름을 찾는다!"
   ]
  },
  {
   "cell_type": "code",
   "execution_count": 148,
   "metadata": {},
   "outputs": [
    {
     "data": {
      "text/html": [
       "<div>\n",
       "<style scoped>\n",
       "    .dataframe tbody tr th:only-of-type {\n",
       "        vertical-align: middle;\n",
       "    }\n",
       "\n",
       "    .dataframe tbody tr th {\n",
       "        vertical-align: top;\n",
       "    }\n",
       "\n",
       "    .dataframe thead th {\n",
       "        text-align: right;\n",
       "    }\n",
       "</style>\n",
       "<table border=\"1\" class=\"dataframe\">\n",
       "  <thead>\n",
       "    <tr style=\"text-align: right;\">\n",
       "      <th>Sex</th>\n",
       "      <th>F</th>\n",
       "      <th>M</th>\n",
       "      <th>total_num</th>\n",
       "      <th>diff_num</th>\n",
       "    </tr>\n",
       "    <tr>\n",
       "      <th>Name</th>\n",
       "      <th></th>\n",
       "      <th></th>\n",
       "      <th></th>\n",
       "      <th></th>\n",
       "    </tr>\n",
       "  </thead>\n",
       "  <tbody>\n",
       "    <tr>\n",
       "      <th>Aadan</th>\n",
       "      <td>0</td>\n",
       "      <td>18</td>\n",
       "      <td>18</td>\n",
       "      <td>18</td>\n",
       "    </tr>\n",
       "    <tr>\n",
       "      <th>Aaden</th>\n",
       "      <td>0</td>\n",
       "      <td>855</td>\n",
       "      <td>855</td>\n",
       "      <td>855</td>\n",
       "    </tr>\n",
       "    <tr>\n",
       "      <th>Aadhav</th>\n",
       "      <td>0</td>\n",
       "      <td>14</td>\n",
       "      <td>14</td>\n",
       "      <td>14</td>\n",
       "    </tr>\n",
       "    <tr>\n",
       "      <th>Aadhya</th>\n",
       "      <td>188</td>\n",
       "      <td>0</td>\n",
       "      <td>188</td>\n",
       "      <td>188</td>\n",
       "    </tr>\n",
       "    <tr>\n",
       "      <th>Aadi</th>\n",
       "      <td>0</td>\n",
       "      <td>116</td>\n",
       "      <td>116</td>\n",
       "      <td>116</td>\n",
       "    </tr>\n",
       "  </tbody>\n",
       "</table>\n",
       "</div>"
      ],
      "text/plain": [
       "Sex       F    M  total_num  diff_num\n",
       "Name                                 \n",
       "Aadan     0   18         18        18\n",
       "Aaden     0  855        855       855\n",
       "Aadhav    0   14         14        14\n",
       "Aadhya  188    0        188       188\n",
       "Aadi      0  116        116       116"
      ]
     },
     "execution_count": 148,
     "metadata": {},
     "output_type": "execute_result"
    }
   ],
   "source": [
    "total_baby_name = baby_names.pivot_table(values='Number',columns='Sex',index='Name',aggfunc='sum',fill_value=0)\n",
    "total_baby_name['total_num'] = total_baby_name['F'] + total_baby_name['M']\n",
    "total_baby_name['diff_num'] = abs(total_baby_name['F'] - total_baby_name['M'])\n",
    "total_baby_name.head()"
   ]
  },
  {
   "cell_type": "code",
   "execution_count": 149,
   "metadata": {},
   "outputs": [
    {
     "data": {
      "text/html": [
       "<div>\n",
       "<style scoped>\n",
       "    .dataframe tbody tr th:only-of-type {\n",
       "        vertical-align: middle;\n",
       "    }\n",
       "\n",
       "    .dataframe tbody tr th {\n",
       "        vertical-align: top;\n",
       "    }\n",
       "\n",
       "    .dataframe thead th {\n",
       "        text-align: right;\n",
       "    }\n",
       "</style>\n",
       "<table border=\"1\" class=\"dataframe\">\n",
       "  <thead>\n",
       "    <tr style=\"text-align: right;\">\n",
       "      <th>Sex</th>\n",
       "      <th>F</th>\n",
       "      <th>M</th>\n",
       "      <th>total_num</th>\n",
       "      <th>diff_num</th>\n",
       "      <th>diff_ratio</th>\n",
       "    </tr>\n",
       "    <tr>\n",
       "      <th>Name</th>\n",
       "      <th></th>\n",
       "      <th></th>\n",
       "      <th></th>\n",
       "      <th></th>\n",
       "      <th></th>\n",
       "    </tr>\n",
       "  </thead>\n",
       "  <tbody>\n",
       "    <tr>\n",
       "      <th>Aadan</th>\n",
       "      <td>0</td>\n",
       "      <td>18</td>\n",
       "      <td>18</td>\n",
       "      <td>18</td>\n",
       "      <td>1.0</td>\n",
       "    </tr>\n",
       "    <tr>\n",
       "      <th>Aaden</th>\n",
       "      <td>0</td>\n",
       "      <td>855</td>\n",
       "      <td>855</td>\n",
       "      <td>855</td>\n",
       "      <td>1.0</td>\n",
       "    </tr>\n",
       "    <tr>\n",
       "      <th>Aadhav</th>\n",
       "      <td>0</td>\n",
       "      <td>14</td>\n",
       "      <td>14</td>\n",
       "      <td>14</td>\n",
       "      <td>1.0</td>\n",
       "    </tr>\n",
       "  </tbody>\n",
       "</table>\n",
       "</div>"
      ],
      "text/plain": [
       "Sex     F    M  total_num  diff_num  diff_ratio\n",
       "Name                                           \n",
       "Aadan   0   18         18        18         1.0\n",
       "Aaden   0  855        855       855         1.0\n",
       "Aadhav  0   14         14        14         1.0"
      ]
     },
     "execution_count": 149,
     "metadata": {},
     "output_type": "execute_result"
    }
   ],
   "source": [
    "total_baby_name['diff_ratio'] = total_baby_name['diff_num'] / total_baby_name['total_num']\n",
    "total_baby_name.head(3)"
   ]
  },
  {
   "cell_type": "code",
   "execution_count": 153,
   "metadata": {},
   "outputs": [
    {
     "data": {
      "text/html": [
       "<div>\n",
       "<style scoped>\n",
       "    .dataframe tbody tr th:only-of-type {\n",
       "        vertical-align: middle;\n",
       "    }\n",
       "\n",
       "    .dataframe tbody tr th {\n",
       "        vertical-align: top;\n",
       "    }\n",
       "\n",
       "    .dataframe thead th {\n",
       "        text-align: right;\n",
       "    }\n",
       "</style>\n",
       "<table border=\"1\" class=\"dataframe\">\n",
       "  <thead>\n",
       "    <tr style=\"text-align: right;\">\n",
       "      <th>Sex</th>\n",
       "      <th>F</th>\n",
       "      <th>M</th>\n",
       "      <th>total_num</th>\n",
       "      <th>diff_num</th>\n",
       "      <th>diff_ratio</th>\n",
       "    </tr>\n",
       "    <tr>\n",
       "      <th>Name</th>\n",
       "      <th></th>\n",
       "      <th></th>\n",
       "      <th></th>\n",
       "      <th></th>\n",
       "      <th></th>\n",
       "    </tr>\n",
       "  </thead>\n",
       "  <tbody>\n",
       "    <tr>\n",
       "      <th>Riley</th>\n",
       "      <td>15539</td>\n",
       "      <td>14929</td>\n",
       "      <td>30468</td>\n",
       "      <td>610</td>\n",
       "      <td>0.020021</td>\n",
       "    </tr>\n",
       "    <tr>\n",
       "      <th>Emerson</th>\n",
       "      <td>2341</td>\n",
       "      <td>2471</td>\n",
       "      <td>4812</td>\n",
       "      <td>130</td>\n",
       "      <td>0.027016</td>\n",
       "    </tr>\n",
       "    <tr>\n",
       "      <th>Kris</th>\n",
       "      <td>2100</td>\n",
       "      <td>2055</td>\n",
       "      <td>4155</td>\n",
       "      <td>45</td>\n",
       "      <td>0.010830</td>\n",
       "    </tr>\n",
       "    <tr>\n",
       "      <th>Carey</th>\n",
       "      <td>1969</td>\n",
       "      <td>1841</td>\n",
       "      <td>3810</td>\n",
       "      <td>128</td>\n",
       "      <td>0.033596</td>\n",
       "    </tr>\n",
       "    <tr>\n",
       "      <th>Stevie</th>\n",
       "      <td>1795</td>\n",
       "      <td>1649</td>\n",
       "      <td>3444</td>\n",
       "      <td>146</td>\n",
       "      <td>0.042393</td>\n",
       "    </tr>\n",
       "    <tr>\n",
       "      <th>Merle</th>\n",
       "      <td>1623</td>\n",
       "      <td>1612</td>\n",
       "      <td>3235</td>\n",
       "      <td>11</td>\n",
       "      <td>0.003400</td>\n",
       "    </tr>\n",
       "    <tr>\n",
       "      <th>Milan</th>\n",
       "      <td>1044</td>\n",
       "      <td>1071</td>\n",
       "      <td>2115</td>\n",
       "      <td>27</td>\n",
       "      <td>0.012766</td>\n",
       "    </tr>\n",
       "    <tr>\n",
       "      <th>Baby</th>\n",
       "      <td>397</td>\n",
       "      <td>436</td>\n",
       "      <td>833</td>\n",
       "      <td>39</td>\n",
       "      <td>0.046819</td>\n",
       "    </tr>\n",
       "    <tr>\n",
       "      <th>Azariah</th>\n",
       "      <td>355</td>\n",
       "      <td>372</td>\n",
       "      <td>727</td>\n",
       "      <td>17</td>\n",
       "      <td>0.023384</td>\n",
       "    </tr>\n",
       "    <tr>\n",
       "      <th>Britt</th>\n",
       "      <td>324</td>\n",
       "      <td>326</td>\n",
       "      <td>650</td>\n",
       "      <td>2</td>\n",
       "      <td>0.003077</td>\n",
       "    </tr>\n",
       "  </tbody>\n",
       "</table>\n",
       "</div>"
      ],
      "text/plain": [
       "Sex          F      M  total_num  diff_num  diff_ratio\n",
       "Name                                                  \n",
       "Riley    15539  14929      30468       610    0.020021\n",
       "Emerson   2341   2471       4812       130    0.027016\n",
       "Kris      2100   2055       4155        45    0.010830\n",
       "Carey     1969   1841       3810       128    0.033596\n",
       "Stevie    1795   1649       3444       146    0.042393\n",
       "Merle     1623   1612       3235        11    0.003400\n",
       "Milan     1044   1071       2115        27    0.012766\n",
       "Baby       397    436        833        39    0.046819\n",
       "Azariah    355    372        727        17    0.023384\n",
       "Britt      324    326        650         2    0.003077"
      ]
     },
     "execution_count": 153,
     "metadata": {},
     "output_type": "execute_result"
    }
   ],
   "source": [
    "# diff 비율이 5% 내로 들어오는 이름 중, 많이 사용된 이름 확인하기\n",
    "total_baby_name[total_baby_name['diff_ratio']<0.05].sort_values('total_num',ascending=False).head(10)"
   ]
  },
  {
   "cell_type": "markdown",
   "metadata": {},
   "source": [
    "#### \"Riley\"가 중성적이라고 볼 수 있는 이름 중, 가장 많이 사용된 Baby Name이다. \n",
    "#### 따라서 Riley라는 이름을 추천, 시대별 trend까지 고려하고 싶다면 위에서 진행한 year_range를 추가하여 top list를 다시 뽑아보면 된다."
   ]
  },
  {
   "cell_type": "code",
   "execution_count": 156,
   "metadata": {},
   "outputs": [
    {
     "data": {
      "text/html": [
       "<div>\n",
       "<style scoped>\n",
       "    .dataframe tbody tr th:only-of-type {\n",
       "        vertical-align: middle;\n",
       "    }\n",
       "\n",
       "    .dataframe tbody tr th {\n",
       "        vertical-align: top;\n",
       "    }\n",
       "\n",
       "    .dataframe thead th {\n",
       "        text-align: right;\n",
       "    }\n",
       "</style>\n",
       "<table border=\"1\" class=\"dataframe\">\n",
       "  <thead>\n",
       "    <tr style=\"text-align: right;\">\n",
       "      <th></th>\n",
       "      <th>Number</th>\n",
       "    </tr>\n",
       "    <tr>\n",
       "      <th>year_range</th>\n",
       "      <th></th>\n",
       "    </tr>\n",
       "  </thead>\n",
       "  <tbody>\n",
       "    <tr>\n",
       "      <th>before1940</th>\n",
       "      <td>516</td>\n",
       "    </tr>\n",
       "    <tr>\n",
       "      <th>before1960</th>\n",
       "      <td>370</td>\n",
       "    </tr>\n",
       "    <tr>\n",
       "      <th>before1990</th>\n",
       "      <td>1099</td>\n",
       "    </tr>\n",
       "    <tr>\n",
       "      <th>before2001</th>\n",
       "      <td>7656</td>\n",
       "    </tr>\n",
       "    <tr>\n",
       "      <th>before2008</th>\n",
       "      <td>10629</td>\n",
       "    </tr>\n",
       "    <tr>\n",
       "      <th>before2015</th>\n",
       "      <td>10198</td>\n",
       "    </tr>\n",
       "  </tbody>\n",
       "</table>\n",
       "</div>"
      ],
      "text/plain": [
       "            Number\n",
       "year_range        \n",
       "before1940     516\n",
       "before1960     370\n",
       "before1990    1099\n",
       "before2001    7656\n",
       "before2008   10629\n",
       "before2015   10198"
      ]
     },
     "execution_count": 156,
     "metadata": {},
     "output_type": "execute_result"
    }
   ],
   "source": [
    "# Riley라는 이름이 너무 올드한건 아닌지 확인해보려 아래 코드를 작성하여 확인해보았다.\n",
    "baby_names[baby_names.Name == 'Riley'].groupby('year_range').agg({'Number':'sum'})"
   ]
  },
  {
   "cell_type": "code",
   "execution_count": 158,
   "metadata": {},
   "outputs": [
    {
     "data": {
      "text/html": [
       "<div>\n",
       "<style scoped>\n",
       "    .dataframe tbody tr th:only-of-type {\n",
       "        vertical-align: middle;\n",
       "    }\n",
       "\n",
       "    .dataframe tbody tr th {\n",
       "        vertical-align: top;\n",
       "    }\n",
       "\n",
       "    .dataframe thead th {\n",
       "        text-align: right;\n",
       "    }\n",
       "</style>\n",
       "<table border=\"1\" class=\"dataframe\">\n",
       "  <thead>\n",
       "    <tr style=\"text-align: right;\">\n",
       "      <th></th>\n",
       "      <th>Number</th>\n",
       "    </tr>\n",
       "    <tr>\n",
       "      <th>year_range</th>\n",
       "      <th></th>\n",
       "    </tr>\n",
       "  </thead>\n",
       "  <tbody>\n",
       "    <tr>\n",
       "      <th>before1940</th>\n",
       "      <td>6389993</td>\n",
       "    </tr>\n",
       "    <tr>\n",
       "      <th>before1960</th>\n",
       "      <td>10456481</td>\n",
       "    </tr>\n",
       "    <tr>\n",
       "      <th>before1990</th>\n",
       "      <td>19431544</td>\n",
       "    </tr>\n",
       "    <tr>\n",
       "      <th>before2001</th>\n",
       "      <td>8309261</td>\n",
       "    </tr>\n",
       "    <tr>\n",
       "      <th>before2008</th>\n",
       "      <td>5175833</td>\n",
       "    </tr>\n",
       "    <tr>\n",
       "      <th>before2015</th>\n",
       "      <td>4703409</td>\n",
       "    </tr>\n",
       "  </tbody>\n",
       "</table>\n",
       "</div>"
      ],
      "text/plain": [
       "              Number\n",
       "year_range          \n",
       "before1940   6389993\n",
       "before1960  10456481\n",
       "before1990  19431544\n",
       "before2001   8309261\n",
       "before2008   5175833\n",
       "before2015   4703409"
      ]
     },
     "execution_count": 158,
     "metadata": {},
     "output_type": "execute_result"
    }
   ],
   "source": [
    "baby_names.groupby('year_range').agg({'Number':'sum'})\n",
    "\n",
    "'''\n",
    "추가로, 해당 데이터를 통해 출생률 변화 정도를 파악해볼 수도 있다. \n",
    "출생율이 1990년 이전까지는 증가하다가 2000년대로 들어오면서 급격하게 줄어드는 것을 볼 수 있다.\n",
    "'''"
   ]
  },
  {
   "cell_type": "code",
   "execution_count": null,
   "metadata": {},
   "outputs": [],
   "source": []
  }
 ],
 "metadata": {
  "kernelspec": {
   "display_name": "Python 3",
   "language": "python",
   "name": "python3"
  },
  "language_info": {
   "codemirror_mode": {
    "name": "ipython",
    "version": 3
   },
   "file_extension": ".py",
   "mimetype": "text/x-python",
   "name": "python",
   "nbconvert_exporter": "python",
   "pygments_lexer": "ipython3",
   "version": "3.8.5"
  }
 },
 "nbformat": 4,
 "nbformat_minor": 4
}
