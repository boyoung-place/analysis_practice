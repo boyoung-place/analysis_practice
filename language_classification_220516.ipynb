{
 "cells": [
  {
   "cell_type": "markdown",
   "metadata": {},
   "source": [
    "# Language Classification\n",
    "\n",
    "- kaggle에 있는 Language Classification Dataset을 사용하고,\n",
    "- [공개노트북 중 하나](https://www.kaggle.com/code/mdzisun/language-detection-system)의 코드를 따라하며 언어 분류를 해보았다."
   ]
  },
  {
   "cell_type": "code",
   "execution_count": 1,
   "metadata": {
    "id": "QeLy4Uce_NUS"
   },
   "outputs": [],
   "source": [
    "from sklearn.preprocessing import LabelEncoder\n",
    "from sklearn.feature_extraction.text import CountVectorizer"
   ]
  },
  {
   "cell_type": "code",
   "execution_count": 2,
   "metadata": {
    "colab": {
     "base_uri": "https://localhost:8080/"
    },
    "id": "lhNlzj6BCKZj",
    "outputId": "a4916b4d-9b53-4c80-cc51-ac2a6ebbf92f"
   },
   "outputs": [],
   "source": [
    "# from google.colab import drive\n",
    "# drive.mount('/content/drive')"
   ]
  },
  {
   "cell_type": "code",
   "execution_count": 3,
   "metadata": {
    "id": "BF_2naJ_CMJz"
   },
   "outputs": [],
   "source": [
    "import pandas as pd\n",
    "import numpy as np\n",
    "data = pd.read_csv('../dataset/dataset.csv')"
   ]
  },
  {
   "cell_type": "code",
   "execution_count": 4,
   "metadata": {
    "colab": {
     "base_uri": "https://localhost:8080/"
    },
    "id": "TDzaiU0SCMMc",
    "outputId": "28d7255f-eba6-4cad-95c8-ea448bbce878"
   },
   "outputs": [
    {
     "data": {
      "text/plain": [
       "(22000, 2)"
      ]
     },
     "execution_count": 4,
     "metadata": {},
     "output_type": "execute_result"
    }
   ],
   "source": [
    "data.shape"
   ]
  },
  {
   "cell_type": "code",
   "execution_count": 5,
   "metadata": {
    "colab": {
     "base_uri": "https://localhost:8080/",
     "height": 143
    },
    "id": "hwhnipoICMPw",
    "outputId": "0b6245f6-6ccb-4612-a2ae-472d761cefc9"
   },
   "outputs": [
    {
     "data": {
      "text/html": [
       "<div>\n",
       "<style scoped>\n",
       "    .dataframe tbody tr th:only-of-type {\n",
       "        vertical-align: middle;\n",
       "    }\n",
       "\n",
       "    .dataframe tbody tr th {\n",
       "        vertical-align: top;\n",
       "    }\n",
       "\n",
       "    .dataframe thead th {\n",
       "        text-align: right;\n",
       "    }\n",
       "</style>\n",
       "<table border=\"1\" class=\"dataframe\">\n",
       "  <thead>\n",
       "    <tr style=\"text-align: right;\">\n",
       "      <th></th>\n",
       "      <th>Text</th>\n",
       "      <th>language</th>\n",
       "    </tr>\n",
       "  </thead>\n",
       "  <tbody>\n",
       "    <tr>\n",
       "      <th>0</th>\n",
       "      <td>klement gottwaldi surnukeha palsameeriti ning ...</td>\n",
       "      <td>Estonian</td>\n",
       "    </tr>\n",
       "    <tr>\n",
       "      <th>1</th>\n",
       "      <td>sebes joseph pereira thomas  på eng the jesuit...</td>\n",
       "      <td>Swedish</td>\n",
       "    </tr>\n",
       "    <tr>\n",
       "      <th>2</th>\n",
       "      <td>ถนนเจริญกรุง อักษรโรมัน thanon charoen krung เ...</td>\n",
       "      <td>Thai</td>\n",
       "    </tr>\n",
       "  </tbody>\n",
       "</table>\n",
       "</div>"
      ],
      "text/plain": [
       "                                                Text  language\n",
       "0  klement gottwaldi surnukeha palsameeriti ning ...  Estonian\n",
       "1  sebes joseph pereira thomas  på eng the jesuit...   Swedish\n",
       "2  ถนนเจริญกรุง อักษรโรมัน thanon charoen krung เ...      Thai"
      ]
     },
     "execution_count": 5,
     "metadata": {},
     "output_type": "execute_result"
    }
   ],
   "source": [
    "data.head(3)"
   ]
  },
  {
   "cell_type": "code",
   "execution_count": 6,
   "metadata": {},
   "outputs": [],
   "source": [
    "data = data[:5000]"
   ]
  },
  {
   "cell_type": "code",
   "execution_count": 7,
   "metadata": {
    "id": "CkANd-XxCMSk"
   },
   "outputs": [],
   "source": [
    "from sklearn.model_selection import train_test_split\n",
    "from sklearn.feature_extraction.text import*\n",
    "from sklearn import preprocessing\n",
    "from sklearn.preprocessing import LabelEncoder\n",
    "from sklearn.metrics import accuracy_score"
   ]
  },
  {
   "cell_type": "code",
   "execution_count": 8,
   "metadata": {
    "colab": {
     "base_uri": "https://localhost:8080/"
    },
    "id": "PmMjRzoXCMX1",
    "outputId": "0cede7ba-1e88-4b5d-98c8-858e31b0e084"
   },
   "outputs": [
    {
     "data": {
      "text/plain": [
       "Russian       250\n",
       "Japanese      240\n",
       "Tamil         240\n",
       "Persian       239\n",
       "Arabic        236\n",
       "Portugese     234\n",
       "Turkish       233\n",
       "Pushto        229\n",
       "Hindi         229\n",
       "Dutch         228\n",
       "Swedish       226\n",
       "French        226\n",
       "Korean        226\n",
       "Estonian      225\n",
       "Indonesian    223\n",
       "English       223\n",
       "Urdu          219\n",
       "Thai          219\n",
       "Spanish       217\n",
       "Latin         217\n",
       "Romanian      214\n",
       "Chinese       207\n",
       "Name: language, dtype: int64"
      ]
     },
     "execution_count": 8,
     "metadata": {},
     "output_type": "execute_result"
    }
   ],
   "source": [
    "data['language'].value_counts()"
   ]
  },
  {
   "cell_type": "code",
   "execution_count": 9,
   "metadata": {
    "colab": {
     "base_uri": "https://localhost:8080/"
    },
    "id": "nrSgbODbCMa_",
    "outputId": "f3e8e400-5b7d-4a78-9580-913d34cb225f"
   },
   "outputs": [
    {
     "name": "stdout",
     "output_type": "stream",
     "text": [
      "<class 'pandas.core.frame.DataFrame'>\n",
      "RangeIndex: 5000 entries, 0 to 4999\n",
      "Data columns (total 2 columns):\n",
      " #   Column    Non-Null Count  Dtype \n",
      "---  ------    --------------  ----- \n",
      " 0   Text      5000 non-null   object\n",
      " 1   language  5000 non-null   object\n",
      "dtypes: object(2)\n",
      "memory usage: 78.2+ KB\n"
     ]
    }
   ],
   "source": [
    "data.info()"
   ]
  },
  {
   "cell_type": "code",
   "execution_count": 10,
   "metadata": {
    "colab": {
     "base_uri": "https://localhost:8080/",
     "height": 70
    },
    "id": "5W-rglK3CMdd",
    "outputId": "453a2c99-5b64-4f72-89d9-7b8ae8b70362"
   },
   "outputs": [
    {
     "data": {
      "text/plain": [
       "'klement gottwaldi surnukeha palsameeriti ning paigutati mausoleumi surnukeha oli aga liiga hilja ja oskamatult palsameeritud ning hakkas ilmutama lagunemise tundemärke  aastal viidi ta surnukeha mausoleumist ära ja kremeeriti zlíni linn kandis aastatel – nime gottwaldov ukrainas harkivi oblastis kandis zmiivi linn aastatel – nime gotvald'"
      ]
     },
     "execution_count": 10,
     "metadata": {},
     "output_type": "execute_result"
    }
   ],
   "source": [
    "data.iloc[0]['Text']"
   ]
  },
  {
   "cell_type": "code",
   "execution_count": 11,
   "metadata": {
    "colab": {
     "base_uri": "https://localhost:8080/"
    },
    "id": "byTqjMyVCMgQ",
    "outputId": "54c95b6a-43f4-435e-9ff1-dd8e01d82e94"
   },
   "outputs": [
    {
     "data": {
      "text/plain": [
       "Text        klement gottwaldi surnukeha palsameeriti ning ...\n",
       "language                                             Estonian\n",
       "Name: 0, dtype: object"
      ]
     },
     "execution_count": 11,
     "metadata": {},
     "output_type": "execute_result"
    }
   ],
   "source": [
    "data.iloc[0]"
   ]
  },
  {
   "cell_type": "code",
   "execution_count": 12,
   "metadata": {
    "id": "1hevOE6CCMli"
   },
   "outputs": [],
   "source": [
    "data['Text'] = data['Text'].apply(lambda x: x.lower())"
   ]
  },
  {
   "cell_type": "code",
   "execution_count": 13,
   "metadata": {
    "colab": {
     "base_uri": "https://localhost:8080/"
    },
    "id": "IUhzwo7aCMn_",
    "outputId": "69de6f11-d393-49cf-8457-30d6c22b708f"
   },
   "outputs": [
    {
     "data": {
      "text/plain": [
       "Text        klement gottwaldi surnukeha palsameeriti ning ...\n",
       "language                                             Estonian\n",
       "Name: 0, dtype: object"
      ]
     },
     "execution_count": 13,
     "metadata": {},
     "output_type": "execute_result"
    }
   ],
   "source": [
    "data.iloc[0]"
   ]
  },
  {
   "cell_type": "code",
   "execution_count": 14,
   "metadata": {
    "colab": {
     "base_uri": "https://localhost:8080/",
     "height": 424
    },
    "id": "gky9-K1xCMqd",
    "outputId": "3c1e6eb5-bb16-412b-8e10-5bd6117b0399"
   },
   "outputs": [
    {
     "data": {
      "text/html": [
       "<div>\n",
       "<style scoped>\n",
       "    .dataframe tbody tr th:only-of-type {\n",
       "        vertical-align: middle;\n",
       "    }\n",
       "\n",
       "    .dataframe tbody tr th {\n",
       "        vertical-align: top;\n",
       "    }\n",
       "\n",
       "    .dataframe thead th {\n",
       "        text-align: right;\n",
       "    }\n",
       "</style>\n",
       "<table border=\"1\" class=\"dataframe\">\n",
       "  <thead>\n",
       "    <tr style=\"text-align: right;\">\n",
       "      <th></th>\n",
       "      <th>Text</th>\n",
       "      <th>language</th>\n",
       "    </tr>\n",
       "  </thead>\n",
       "  <tbody>\n",
       "    <tr>\n",
       "      <th>14</th>\n",
       "      <td>한국에서 성씨가 사용되기 시작한 정확한 시기는 알 수 없으나 한자漢字 등 중국 문물...</td>\n",
       "      <td>Korean</td>\n",
       "    </tr>\n",
       "    <tr>\n",
       "      <th>25</th>\n",
       "      <td>효모는 세포 수준의 생물학에서 모델 생물의 첫 번째 본보기로 간주해도 좋을 것이다 ...</td>\n",
       "      <td>Korean</td>\n",
       "    </tr>\n",
       "    <tr>\n",
       "      <th>67</th>\n",
       "      <td>세월호 참사 초기 구조 당시에 현장지휘관 osc·on scene-commander인...</td>\n",
       "      <td>Korean</td>\n",
       "    </tr>\n",
       "    <tr>\n",
       "      <th>83</th>\n",
       "      <td>^ hwang sw et al direct activation of capsaici...</td>\n",
       "      <td>Korean</td>\n",
       "    </tr>\n",
       "    <tr>\n",
       "      <th>99</th>\n",
       "      <td>자사 노선은 도부 스카이트리라인 오시아게 - 도부 도부쓰코엔 사이 도부 철도 이세사...</td>\n",
       "      <td>Korean</td>\n",
       "    </tr>\n",
       "    <tr>\n",
       "      <th>...</th>\n",
       "      <td>...</td>\n",
       "      <td>...</td>\n",
       "    </tr>\n",
       "    <tr>\n",
       "      <th>4900</th>\n",
       "      <td>브래지어 영어 brassiere 문화어 가슴띠는 보통 브라bra라고 일컬으며 유방을...</td>\n",
       "      <td>Korean</td>\n",
       "    </tr>\n",
       "    <tr>\n",
       "      <th>4915</th>\n",
       "      <td>이어 또다른 적 몽골을 침공하여 후방을 더욱 안정히 하였다 년 차하르의 링단 칸에게...</td>\n",
       "      <td>Korean</td>\n",
       "    </tr>\n",
       "    <tr>\n",
       "      <th>4966</th>\n",
       "      <td>킬제덴의 참모로 불타는 군단의 나스레짐 족 전사 중 한 명이며 리치 왕 넬쥴의 부관...</td>\n",
       "      <td>Korean</td>\n",
       "    </tr>\n",
       "    <tr>\n",
       "      <th>4986</th>\n",
       "      <td>또 강물과 개천가에는 아주 극히 작은 벌레[蟲]가 있었습니다 이 벌레 이름은 초명焦...</td>\n",
       "      <td>Korean</td>\n",
       "    </tr>\n",
       "    <tr>\n",
       "      <th>4998</th>\n",
       "      <td>안두희는 이러한 경찰과의 인연을 넘어 군의 정보기관 특히 특무대sis의 김창룡金昌龍...</td>\n",
       "      <td>Korean</td>\n",
       "    </tr>\n",
       "  </tbody>\n",
       "</table>\n",
       "<p>226 rows × 2 columns</p>\n",
       "</div>"
      ],
      "text/plain": [
       "                                                   Text language\n",
       "14    한국에서 성씨가 사용되기 시작한 정확한 시기는 알 수 없으나 한자漢字 등 중국 문물...   Korean\n",
       "25    효모는 세포 수준의 생물학에서 모델 생물의 첫 번째 본보기로 간주해도 좋을 것이다 ...   Korean\n",
       "67    세월호 참사 초기 구조 당시에 현장지휘관 osc·on scene-commander인...   Korean\n",
       "83    ^ hwang sw et al direct activation of capsaici...   Korean\n",
       "99    자사 노선은 도부 스카이트리라인 오시아게 - 도부 도부쓰코엔 사이 도부 철도 이세사...   Korean\n",
       "...                                                 ...      ...\n",
       "4900  브래지어 영어 brassiere 문화어 가슴띠는 보통 브라bra라고 일컬으며 유방을...   Korean\n",
       "4915  이어 또다른 적 몽골을 침공하여 후방을 더욱 안정히 하였다 년 차하르의 링단 칸에게...   Korean\n",
       "4966  킬제덴의 참모로 불타는 군단의 나스레짐 족 전사 중 한 명이며 리치 왕 넬쥴의 부관...   Korean\n",
       "4986  또 강물과 개천가에는 아주 극히 작은 벌레[蟲]가 있었습니다 이 벌레 이름은 초명焦...   Korean\n",
       "4998  안두희는 이러한 경찰과의 인연을 넘어 군의 정보기관 특히 특무대sis의 김창룡金昌龍...   Korean\n",
       "\n",
       "[226 rows x 2 columns]"
      ]
     },
     "execution_count": 14,
     "metadata": {},
     "output_type": "execute_result"
    }
   ],
   "source": [
    "data[data['language'] == 'Korean']"
   ]
  },
  {
   "cell_type": "code",
   "execution_count": 15,
   "metadata": {
    "colab": {
     "base_uri": "https://localhost:8080/"
    },
    "id": "F0eGToTICMtP",
    "outputId": "55464512-5a26-4ac7-9359-c973adcee90d"
   },
   "outputs": [
    {
     "data": {
      "text/plain": [
       "(5000, 2)"
      ]
     },
     "execution_count": 15,
     "metadata": {},
     "output_type": "execute_result"
    }
   ],
   "source": [
    "data.shape"
   ]
  },
  {
   "cell_type": "code",
   "execution_count": 16,
   "metadata": {
    "colab": {
     "base_uri": "https://localhost:8080/"
    },
    "id": "j0HU3czfCMyB",
    "outputId": "09c3096f-d550-477b-f0ef-e7a7b761065c"
   },
   "outputs": [
    {
     "data": {
      "text/plain": [
       "15399.999999999998"
      ]
     },
     "execution_count": 16,
     "metadata": {},
     "output_type": "execute_result"
    }
   ],
   "source": [
    "22000*0.7"
   ]
  },
  {
   "cell_type": "code",
   "execution_count": 17,
   "metadata": {
    "colab": {
     "base_uri": "https://localhost:8080/"
    },
    "id": "ALXMkOyRGOKc",
    "outputId": "af006a9f-8bb1-4172-c816-5bd830cd60f7"
   },
   "outputs": [
    {
     "data": {
      "text/plain": [
       "Russian       250\n",
       "Japanese      240\n",
       "Tamil         240\n",
       "Persian       239\n",
       "Arabic        236\n",
       "Portugese     234\n",
       "Turkish       233\n",
       "Pushto        229\n",
       "Hindi         229\n",
       "Dutch         228\n",
       "Swedish       226\n",
       "French        226\n",
       "Korean        226\n",
       "Estonian      225\n",
       "Indonesian    223\n",
       "English       223\n",
       "Urdu          219\n",
       "Thai          219\n",
       "Spanish       217\n",
       "Latin         217\n",
       "Romanian      214\n",
       "Chinese       207\n",
       "Name: language, dtype: int64"
      ]
     },
     "execution_count": 17,
     "metadata": {},
     "output_type": "execute_result"
    }
   ],
   "source": [
    "data[:15400]['language'].value_counts()"
   ]
  },
  {
   "cell_type": "code",
   "execution_count": 18,
   "metadata": {
    "colab": {
     "base_uri": "https://localhost:8080/"
    },
    "id": "q54Lfif2HM3O",
    "outputId": "2b8f3ddf-79e7-4d16-db90-20e9ed219fb5"
   },
   "outputs": [],
   "source": [
    "import re\n",
    "def data_preprocessing(text):\n",
    "    text = re.sub(r'[!@#$(),n\"%^*?:;~`0-9]', ' ', text)\n",
    "    text = re.sub(r'[[]]', ' ', text)\n",
    "    text = text.lower()\n",
    "    return text"
   ]
  },
  {
   "cell_type": "code",
   "execution_count": 19,
   "metadata": {
    "id": "3zuk2WH_H1Yy"
   },
   "outputs": [
    {
     "name": "stderr",
     "output_type": "stream",
     "text": [
      "<ipython-input-18-aaa28c67dd7f>:4: FutureWarning: Possible nested set at position 1\n",
      "  text = re.sub(r'[[]]', ' ', text)\n"
     ]
    }
   ],
   "source": [
    "data['Text'] = data['Text'].apply(lambda x: data_preprocessing(x))"
   ]
  },
  {
   "cell_type": "code",
   "execution_count": 20,
   "metadata": {
    "id": "n5gtN5DhIW4P"
   },
   "outputs": [],
   "source": [
    "X = data['Text']\n",
    "y = data['language']"
   ]
  },
  {
   "cell_type": "code",
   "execution_count": 21,
   "metadata": {
    "id": "9ZDquEKFILSN"
   },
   "outputs": [],
   "source": [
    "cv = CountVectorizer()"
   ]
  },
  {
   "cell_type": "code",
   "execution_count": 22,
   "metadata": {},
   "outputs": [
    {
     "name": "stdout",
     "output_type": "stream",
     "text": [
      "4000\n"
     ]
    }
   ],
   "source": [
    "split_num = round(data.shape[0] * 0.8)\n",
    "print(split_num)"
   ]
  },
  {
   "cell_type": "code",
   "execution_count": 23,
   "metadata": {
    "id": "v_KkcrsxGW14"
   },
   "outputs": [],
   "source": [
    "train_x = X[:split_num]\n",
    "test_x = X[split_num:]\n",
    "train_y = y[:split_num]\n",
    "test_y = y[split_num:]"
   ]
  },
  {
   "cell_type": "code",
   "execution_count": null,
   "metadata": {},
   "outputs": [],
   "source": []
  },
  {
   "cell_type": "code",
   "execution_count": 24,
   "metadata": {
    "id": "12xJtaetG9uJ"
   },
   "outputs": [],
   "source": [
    "le = LabelEncoder()\n",
    "train_y = le.fit_transform(train_y)"
   ]
  },
  {
   "cell_type": "code",
   "execution_count": 25,
   "metadata": {
    "id": "cweO4gqYK5xk"
   },
   "outputs": [
    {
     "data": {
      "text/plain": [
       "(4000, 75555)"
      ]
     },
     "execution_count": 25,
     "metadata": {},
     "output_type": "execute_result"
    }
   ],
   "source": [
    "train_x = cv.fit_transform(train_x.tolist()).toarray()\n",
    "train_x.shape"
   ]
  },
  {
   "cell_type": "code",
   "execution_count": 26,
   "metadata": {
    "id": "oltyZp0UK9h6"
   },
   "outputs": [
    {
     "data": {
      "text/plain": [
       "array([[0, 0, 0, ..., 0, 0, 0],\n",
       "       [0, 0, 0, ..., 0, 0, 0],\n",
       "       [0, 0, 0, ..., 0, 0, 0]])"
      ]
     },
     "execution_count": 26,
     "metadata": {},
     "output_type": "execute_result"
    }
   ],
   "source": [
    "train_x[:3]"
   ]
  },
  {
   "cell_type": "code",
   "execution_count": 27,
   "metadata": {
    "id": "YbuuZ3QUK9kI"
   },
   "outputs": [],
   "source": [
    "test_x = cv.transform(test_x.tolist()).toarray()"
   ]
  },
  {
   "cell_type": "code",
   "execution_count": 28,
   "metadata": {
    "id": "T95FEHt9K9mn"
   },
   "outputs": [],
   "source": [
    "test_y = le.transform(test_y)"
   ]
  },
  {
   "cell_type": "code",
   "execution_count": 29,
   "metadata": {
    "id": "DdhnO-F-K9pb"
   },
   "outputs": [
    {
     "data": {
      "text/plain": [
       "array([[0, 0, 0, ..., 0, 0, 0],\n",
       "       [0, 0, 0, ..., 0, 0, 0]])"
      ]
     },
     "execution_count": 29,
     "metadata": {},
     "output_type": "execute_result"
    }
   ],
   "source": [
    "test_x[:2]"
   ]
  },
  {
   "cell_type": "code",
   "execution_count": 30,
   "metadata": {
    "id": "E15ygg5eK9sR"
   },
   "outputs": [],
   "source": [
    "from sklearn import svm,metrics\n",
    "from sklearn.metrics import classification_report\n",
    "\n",
    "\n",
    "clf= svm.SVC()"
   ]
  },
  {
   "cell_type": "code",
   "execution_count": 31,
   "metadata": {},
   "outputs": [
    {
     "name": "stdout",
     "output_type": "stream",
     "text": [
      "spent time with training:  578.3662841320038\n",
      "spent time with prediction:  191.85207200050354\n"
     ]
    }
   ],
   "source": [
    "import time\n",
    "start_time=time.time()\n",
    "\n",
    "clf.fit(train_x, train_y)\n",
    "print('spent time with training: ', time.time() - start_time)\n",
    "\n",
    "start_time = time.time()\n",
    "pred_y = clf.predict(test_x)\n",
    "print('spent time with prediction: ', time.time() - start_time)"
   ]
  },
  {
   "cell_type": "code",
   "execution_count": 34,
   "metadata": {},
   "outputs": [],
   "source": [
    "# metrics.accuracy_score??"
   ]
  },
  {
   "cell_type": "code",
   "execution_count": 32,
   "metadata": {},
   "outputs": [
    {
     "name": "stdout",
     "output_type": "stream",
     "text": [
      "정확도:  0.816\n",
      "==================================\n",
      "보고서\n",
      "              precision    recall  f1-score   support\n",
      "\n",
      "           0       1.00      0.90      0.95        59\n",
      "           1       0.00      0.00      0.00        40\n",
      "           2       1.00      0.96      0.98        50\n",
      "           3       0.76      0.85      0.80        48\n",
      "           4       1.00      0.68      0.81        47\n",
      "           5       0.95      0.89      0.92        45\n",
      "           6       1.00      0.93      0.96        42\n",
      "           7       1.00      0.93      0.96        41\n",
      "           8       0.28      1.00      0.43        52\n",
      "           9       0.94      0.39      0.55        44\n",
      "          10       0.93      0.87      0.90        47\n",
      "          11       1.00      0.88      0.94        50\n",
      "          12       0.95      0.89      0.92        45\n",
      "          13       0.57      0.86      0.69        36\n",
      "          14       1.00      0.94      0.97        50\n",
      "          15       1.00      0.69      0.82        42\n",
      "          16       1.00      0.83      0.91        48\n",
      "          17       0.97      0.94      0.96        36\n",
      "          18       1.00      0.90      0.95        40\n",
      "          19       1.00      0.67      0.81        46\n",
      "          20       0.98      0.87      0.92        47\n",
      "          21       1.00      0.93      0.97        45\n",
      "\n",
      "    accuracy                           0.82      1000\n",
      "   macro avg       0.88      0.81      0.82      1000\n",
      "weighted avg       0.88      0.82      0.83      1000\n",
      "\n"
     ]
    }
   ],
   "source": [
    "score = metrics.accuracy_score(test_y, pred_y)\n",
    "report=classification_report(test_y, pred_y)\n",
    "\n",
    "\n",
    "\n",
    "# print(\"예측값:\", pred_y)\n",
    "# print('==================================')\n",
    "print('정확도: ', score)\n",
    "print('==================================')\n",
    "print('보고서')\n",
    "print(report)"
   ]
  },
  {
   "cell_type": "code",
   "execution_count": null,
   "metadata": {},
   "outputs": [],
   "source": []
  },
  {
   "cell_type": "code",
   "execution_count": null,
   "metadata": {},
   "outputs": [],
   "source": []
  },
  {
   "cell_type": "code",
   "execution_count": null,
   "metadata": {},
   "outputs": [],
   "source": []
  },
  {
   "cell_type": "code",
   "execution_count": null,
   "metadata": {},
   "outputs": [],
   "source": []
  },
  {
   "cell_type": "code",
   "execution_count": null,
   "metadata": {},
   "outputs": [],
   "source": []
  }
 ],
 "metadata": {
  "colab": {
   "collapsed_sections": [],
   "name": "language_classification_220516.ipynb",
   "provenance": []
  },
  "kernelspec": {
   "display_name": "Python 3",
   "language": "python",
   "name": "python3"
  },
  "language_info": {
   "codemirror_mode": {
    "name": "ipython",
    "version": 3
   },
   "file_extension": ".py",
   "mimetype": "text/x-python",
   "name": "python",
   "nbconvert_exporter": "python",
   "pygments_lexer": "ipython3",
   "version": "3.8.8"
  }
 },
 "nbformat": 4,
 "nbformat_minor": 1
}
